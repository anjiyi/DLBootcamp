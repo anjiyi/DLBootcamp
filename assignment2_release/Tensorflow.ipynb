{
 "cells": [
  {
   "cell_type": "code",
   "execution_count": 2,
   "metadata": {
    "collapsed": true
   },
   "outputs": [],
   "source": [
    "import tensorflow as tf\n",
    "import numpy as np"
   ]
  },
  {
   "cell_type": "code",
   "execution_count": 31,
   "metadata": {
    "collapsed": false
   },
   "outputs": [
    {
     "name": "stdout",
     "output_type": "stream",
     "text": [
      "[[-2.08459783  2.5226357  -0.40043133 -0.32199419]\n",
      " [ 1.02889991  0.14091396  1.01134872  0.30804074]\n",
      " [ 0.60854661 -0.86278868 -1.02646148 -0.4713909 ]\n",
      " [-4.00863552  4.98334885 -0.46208158 -0.48612881]]\n"
     ]
    }
   ],
   "source": [
    "sess = tf.Session()\n",
    "\n",
    "w = tf.Variable(tf.random_normal((4,3)))\n",
    "b = tf.Variable(tf.random_normal([4,3]))\n",
    "\n",
    "sess.run(tf.global_variables_initializer())\n",
    "\n",
    "b = tf.reshape(b, [3,4])\n",
    "\n",
    "wb = tf.matmul(w,b)\n",
    "\n",
    "print sess.run(wb)"
   ]
  },
  {
   "cell_type": "code",
   "execution_count": null,
   "metadata": {
    "collapsed": false
   },
   "outputs": [],
   "source": [
    "x = tf.constant([35, 40, 45], name='x')\n",
    "y = tf.Variable(x + 5, name='y')\n",
    "\n",
    "\n",
    "with tf.Session() as session:\n",
    "    session.run(tf.global_variables_initializer())\n",
    "    print session.run(y)"
   ]
  },
  {
   "cell_type": "code",
   "execution_count": 32,
   "metadata": {
    "collapsed": false
   },
   "outputs": [
    {
     "name": "stdout",
     "output_type": "stream",
     "text": [
      "477\n",
      "551\n",
      "290\n",
      "280\n",
      "141\n"
     ]
    }
   ],
   "source": [
    "x = tf.Variable(0, name='x')\n",
    "\n",
    "session = tf.InteractiveSession()\n",
    "\n",
    "for i in range(5):\n",
    "    tf.global_variables_initializer().run()\n",
    "    x += np.random.randint(1000)\n",
    "    x /= i+1\n",
    "    print x.eval()\n",
    "    \n",
    "session.close()"
   ]
  },
  {
   "cell_type": "code",
   "execution_count": 38,
   "metadata": {
    "collapsed": false
   },
   "outputs": [
    {
     "name": "stdout",
     "output_type": "stream",
     "text": [
      "Successfully downloaded train-images-idx3-ubyte.gz 9912422 bytes.\n",
      "Extracting MNIST_data/train-images-idx3-ubyte.gz\n",
      "Successfully downloaded train-labels-idx1-ubyte.gz 28881 bytes.\n",
      "Extracting MNIST_data/train-labels-idx1-ubyte.gz\n",
      "Successfully downloaded t10k-images-idx3-ubyte.gz 1648877 bytes.\n",
      "Extracting MNIST_data/t10k-images-idx3-ubyte.gz\n",
      "Successfully downloaded t10k-labels-idx1-ubyte.gz 4542 bytes.\n",
      "Extracting MNIST_data/t10k-labels-idx1-ubyte.gz\n"
     ]
    }
   ],
   "source": [
    "from tensorflow.examples.tutorials.mnist import input_data\n",
    "mnist = input_data.read_data_sets('MNIST_data', one_hot=True)\n"
   ]
  },
  {
   "cell_type": "code",
   "execution_count": 60,
   "metadata": {
    "collapsed": false
   },
   "outputs": [
    {
     "ename": "SyntaxError",
     "evalue": "invalid syntax (<ipython-input-60-2ac4f5f234a6>, line 13)",
     "output_type": "error",
     "traceback": [
      "\u001b[0;36m  File \u001b[0;32m\"<ipython-input-60-2ac4f5f234a6>\"\u001b[0;36m, line \u001b[0;32m13\u001b[0m\n\u001b[0;31m    p_c = probs[, tf.to_float(y)]\u001b[0m\n\u001b[0m                ^\u001b[0m\n\u001b[0;31mSyntaxError\u001b[0m\u001b[0;31m:\u001b[0m invalid syntax\n"
     ]
    }
   ],
   "source": [
    "sess = tf.Session()\n",
    "n_samples = tf.constant(10)\n",
    "n_features = tf.constant(5)\n",
    "\n",
    "x = tf.Variable(tf.random_normal((n_samples,n_features)))\n",
    "y = tf.Variable(tf.random_normal((n_samples,n_features)))\n",
    "\n",
    "sess.run(tf.global_variables_initializer())\n",
    "\n",
    "probs = tf.exp(x - tf.reduce_max(x, axis=1, keep_dims=True))\n",
    "probs /= tf.reduce_sum(probs, axis=1, keep_dims=True)\n",
    "\n",
    "p_c = probs[, tf.gather(y)]\n",
    "      \n",
    "\"\"\"\n",
    "loss = -tf.reduce_sum(tf.log(probs[np.arange(n_samples), y])) / n_samples\n",
    "dx = probs.copy()\n",
    "dx[np.arange(n_samples), y] -= 1\n",
    "dx /= n_samples\n",
    "\n",
    "#print probs\n",
    "\n",
    "\n",
    "\"\"\""
   ]
  }
 ],
 "metadata": {
  "kernelspec": {
   "display_name": "Python 2",
   "language": "python",
   "name": "python2"
  },
  "language_info": {
   "codemirror_mode": {
    "name": "ipython",
    "version": 2
   },
   "file_extension": ".py",
   "mimetype": "text/x-python",
   "name": "python",
   "nbconvert_exporter": "python",
   "pygments_lexer": "ipython2",
   "version": "2.7.13"
  }
 },
 "nbformat": 4,
 "nbformat_minor": 2
}
