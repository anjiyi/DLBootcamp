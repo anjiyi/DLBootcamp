{
 "cells": [
  {
   "cell_type": "code",
   "execution_count": 3,
   "metadata": {
    "collapsed": false
   },
   "outputs": [],
   "source": [
    "import tensorflow as tf\n",
    "import numpy as np\n",
    "from q1_softmax import *\n",
    "\n",
    "%load_ext autoreload\n",
    "%autoreload 2\n",
    "%reload_ext autoreload"
   ]
  },
  {
   "cell_type": "code",
   "execution_count": 4,
   "metadata": {
    "collapsed": false
   },
   "outputs": [
    {
     "name": "stdout",
     "output_type": "stream",
     "text": [
      "Running basic tests...\n",
      "Basic (non-exhaustive) softmax tests pass\n",
      "\n",
      "Basic (non-exhaustive) cross-entropy tests pass\n",
      "\n"
     ]
    }
   ],
   "source": [
    "test_softmax_basic()\n",
    "test_cross_entropy_loss_basic()"
   ]
  },
  {
   "cell_type": "code",
   "execution_count": 5,
   "metadata": {
    "collapsed": false
   },
   "outputs": [
    {
     "name": "stdout",
     "output_type": "stream",
     "text": [
      "Epoch 0: loss = 63.15 (0.022 sec)\n",
      "Epoch 1: loss = 21.69 (0.011 sec)\n",
      "Epoch 2: loss = 11.66 (0.010 sec)\n",
      "Epoch 3: loss = 7.79 (0.010 sec)\n",
      "Epoch 4: loss = 5.80 (0.010 sec)\n",
      "Epoch 5: loss = 4.61 (0.010 sec)\n",
      "Epoch 6: loss = 3.82 (0.010 sec)\n",
      "Epoch 7: loss = 3.25 (0.010 sec)\n",
      "Epoch 8: loss = 2.83 (0.011 sec)\n",
      "Epoch 9: loss = 2.51 (0.010 sec)\n",
      "Epoch 10: loss = 2.25 (0.010 sec)\n",
      "Epoch 11: loss = 2.04 (0.010 sec)\n",
      "Epoch 12: loss = 1.86 (0.010 sec)\n",
      "Epoch 13: loss = 1.71 (0.010 sec)\n",
      "Epoch 14: loss = 1.59 (0.010 sec)\n",
      "Epoch 15: loss = 1.48 (0.010 sec)\n",
      "Epoch 16: loss = 1.38 (0.011 sec)\n",
      "Epoch 17: loss = 1.30 (0.011 sec)\n",
      "Epoch 18: loss = 1.23 (0.015 sec)\n",
      "Epoch 19: loss = 1.16 (0.016 sec)\n",
      "Epoch 20: loss = 1.10 (0.021 sec)\n",
      "Epoch 21: loss = 1.05 (0.026 sec)\n",
      "Epoch 22: loss = 1.00 (0.012 sec)\n",
      "Epoch 23: loss = 0.95 (0.010 sec)\n",
      "Epoch 24: loss = 0.91 (0.010 sec)\n",
      "Epoch 25: loss = 0.88 (0.011 sec)\n",
      "Epoch 26: loss = 0.84 (0.011 sec)\n",
      "Epoch 27: loss = 0.81 (0.012 sec)\n",
      "Epoch 28: loss = 0.78 (0.010 sec)\n",
      "Epoch 29: loss = 0.75 (0.010 sec)\n",
      "Epoch 30: loss = 0.73 (0.010 sec)\n",
      "Epoch 31: loss = 0.70 (0.011 sec)\n",
      "Epoch 32: loss = 0.68 (0.010 sec)\n",
      "Epoch 33: loss = 0.66 (0.010 sec)\n",
      "Epoch 34: loss = 0.64 (0.011 sec)\n",
      "Epoch 35: loss = 0.62 (0.010 sec)\n",
      "Epoch 36: loss = 0.60 (0.011 sec)\n",
      "Epoch 37: loss = 0.59 (0.012 sec)\n",
      "Epoch 38: loss = 0.57 (0.025 sec)\n",
      "Epoch 39: loss = 0.56 (0.012 sec)\n",
      "Epoch 40: loss = 0.54 (0.011 sec)\n",
      "Epoch 41: loss = 0.53 (0.011 sec)\n",
      "Epoch 42: loss = 0.52 (0.011 sec)\n",
      "Epoch 43: loss = 0.50 (0.011 sec)\n",
      "Epoch 44: loss = 0.49 (0.011 sec)\n",
      "Epoch 45: loss = 0.48 (0.010 sec)\n",
      "Epoch 46: loss = 0.47 (0.010 sec)\n",
      "Epoch 47: loss = 0.46 (0.011 sec)\n",
      "Epoch 48: loss = 0.45 (0.015 sec)\n",
      "Epoch 49: loss = 0.44 (0.016 sec)\n",
      "Basic (non-exhaustive) classifier tests pass\n",
      "\n"
     ]
    }
   ],
   "source": [
    "from q1_classifier import *\n",
    "test_SoftmaxModel()"
   ]
  },
  {
   "cell_type": "code",
   "execution_count": 6,
   "metadata": {
    "collapsed": false
   },
   "outputs": [
    {
     "name": "stdout",
     "output_type": "stream",
     "text": [
      "Running basic tests...\n",
      "Basic (non-exhaustive) Xavier initialization tests pass\n",
      "\n"
     ]
    }
   ],
   "source": [
    "from q2_initialization import *\n",
    "test_initialization_basic()"
   ]
  },
  {
   "cell_type": "code",
   "execution_count": 7,
   "metadata": {
    "collapsed": false
   },
   "outputs": [
    {
     "name": "stdout",
     "output_type": "stream",
     "text": [
      "Running your tests...\n",
      "Xavier initialization tests pass\n",
      "\n"
     ]
    }
   ],
   "source": [
    "test_initialization()"
   ]
  },
  {
   "cell_type": "code",
   "execution_count": 38,
   "metadata": {
    "collapsed": false
   },
   "outputs": [
    {
     "name": "stdout",
     "output_type": "stream",
     "text": [
      "Epoch 0\n",
      "Training loss: 0.526823639873639875\n",
      "Training acc: 0.864611213971\n",
      "Validation loss: 0.337512075901\n",
      "\n",
      "[[42308    62    49   111   229]\n",
      " [  628  1188    34   148    96]\n",
      " [  654    44   527    19    24]\n",
      " [ 1155   168    37   498   234]\n",
      " [ 1018    45     3    73  2010]]\n",
      "Tag: O - P 0.9245 / R 0.9895\n",
      "Tag: LOC - P 0.7883 / R 0.5673\n",
      "Tag: MISC - P 0.8108 / R 0.4156\n",
      "Tag: ORG - P 0.5866 / R 0.2380\n",
      "Tag: PER - P 0.7752 / R 0.6383\n",
      "Total time: 34.7864489555\n",
      "Epoch 1\n",
      "Training loss: 0.475047826767826767\n",
      "Training acc: 0.878101963943\n",
      "Validation loss: 0.328820586205\n",
      "\n",
      "[[42010   200    52   186   311]\n",
      " [  396  1372    43   178   105]\n",
      " [  577    42   573    37    39]\n",
      " [  976   184    49   659   224]\n",
      " [  718    59     5   264  2103]]\n",
      "Tag: O - P 0.9403 / R 0.9825\n",
      "Tag: LOC - P 0.7388 / R 0.6552\n",
      "Tag: MISC - P 0.7936 / R 0.4519\n",
      "Tag: ORG - P 0.4977 / R 0.3150\n",
      "Tag: PER - P 0.7559 / R 0.6678\n",
      "Total time: 32.914659977\n",
      "Epoch 2\n",
      "Training loss: 0.470435202122202122\n",
      "Training acc: 0.878897559682\n",
      "Validation loss: 0.326570272446\n",
      "\n",
      "[[42193   163    36   156   211]\n",
      " [  433  1350    28   186    97]\n",
      " [  603    49   556    34    26]\n",
      " [ 1059   169    43   642   179]\n",
      " [  931    63     2   244  1909]]\n",
      "Tag: O - P 0.9331 / R 0.9868\n",
      "Tag: LOC - P 0.7525 / R 0.6447\n",
      "Tag: MISC - P 0.8361 / R 0.4385\n",
      "Tag: ORG - P 0.5087 / R 0.3069\n",
      "Tag: PER - P 0.7882 / R 0.6062\n",
      "Total time: 35.0829110146\n",
      "Epoch 3\n",
      "Training loss: 0.465429037809037809\n",
      "Training acc: 0.880783416249\n",
      "Validation loss: 0.325328737497\n",
      "\n",
      "[[41967   205    45   160   382]\n",
      " [  416  1384    21   179    94]\n",
      " [  556    45   592    38    37]\n",
      " [  946   194    33   712   207]\n",
      " [  773    71     1   177  2127]]\n",
      "Tag: O - P 0.9397 / R 0.9815\n",
      "Tag: LOC - P 0.7288 / R 0.6609\n",
      "Tag: MISC - P 0.8555 / R 0.4669\n",
      "Tag: ORG - P 0.5624 / R 0.3403\n",
      "Tag: PER - P 0.7471 / R 0.6755\n",
      "Total time: 20.2095499039\n",
      "Epoch 4\n",
      "Training loss: 0.467606872326872322\n",
      "Training acc: 0.880164619563\n",
      "Validation loss: 0.321866869926\n",
      "\n",
      "[[42370    77    31    98   183]\n",
      " [  576  1234    13   177    94]\n",
      " [  603    35   565    42    23]\n",
      " [ 1149   132    28   669   114]\n",
      " [ 1032    36     3   173  1905]]\n",
      "Tag: O - P 0.9265 / R 0.9909\n",
      "Tag: LOC - P 0.8151 / R 0.5893\n",
      "Tag: MISC - P 0.8828 / R 0.4456\n",
      "Tag: ORG - P 0.5772 / R 0.3198\n",
      "Tag: PER - P 0.8215 / R 0.6050\n",
      "Total time: 22.2260191441\n",
      "Epoch 5\n",
      "Training loss: 0.463512241842241846\n",
      "Training acc: 0.880400351634\n",
      "Validation loss: 0.32119807601\n",
      "\n",
      "[[42124   187    54   124   270]\n",
      " [  399  1405    35   140   115]\n",
      " [  578    44   599    17    30]\n",
      " [  998   207    46   636   205]\n",
      " [  796    60     2   212  2079]]\n",
      "Tag: O - P 0.9383 / R 0.9851\n",
      "Tag: LOC - P 0.7383 / R 0.6710\n",
      "Tag: MISC - P 0.8139 / R 0.4724\n",
      "Tag: ORG - P 0.5633 / R 0.3040\n",
      "Tag: PER - P 0.7703 / R 0.6602\n",
      "Total time: 21.6264038086\n",
      "Epoch 6\n",
      "Training loss: 0.463574320078320078\n",
      "Training acc: 0.880532950924\n",
      "Validation loss: 0.321956694126\n",
      "\n",
      "[[41998   242    61   117   341]\n",
      " [  337  1464    20   141   132]\n",
      " [  528    53   624    28    35]\n",
      " [  957   214    41   634   246]\n",
      " [  717    63     3   158  2208]]\n",
      "Tag: O - P 0.9430 / R 0.9822\n",
      "Tag: LOC - P 0.7191 / R 0.6991\n",
      "Tag: MISC - P 0.8331 / R 0.4921\n",
      "Tag: ORG - P 0.5881 / R 0.3031\n",
      "Tag: PER - P 0.7454 / R 0.7012\n",
      "Total time: 17.605025053\n",
      "Epoch 7\n",
      "Training loss: 0.462793081999081999\n",
      "Training acc: 0.880542773093\n",
      "Validation loss: 0.318830788136\n",
      "\n",
      "[[42136   175    26   122   300]\n",
      " [  409  1384    25   166   110]\n",
      " [  584    51   576    30    27]\n",
      " [  977   154    32   648   281]\n",
      " [  763    30     2    48  2306]]\n",
      "Tag: O - P 0.9391 / R 0.9854\n",
      "Tag: LOC - P 0.7715 / R 0.6609\n",
      "Tag: MISC - P 0.8714 / R 0.4543\n",
      "Tag: ORG - P 0.6391 / R 0.3098\n",
      "Tag: PER - P 0.7626 / R 0.7323\n",
      "Total time: 29.3804171085\n",
      "Epoch 8\n",
      "Training loss: 0.462993979454979454\n",
      "Training acc: 0.881186125203\n",
      "Validation loss: 0.321960985661\n",
      "\n",
      "[[41989   222    79   118   351]\n",
      " [  375  1493    19    79   128]\n",
      " [  548    46   605    41    28]\n",
      " [  954   283    37   520   298]\n",
      " [  697    83     5    20  2344]]\n",
      "Tag: O - P 0.9422 / R 0.9820\n",
      "Tag: LOC - P 0.7019 / R 0.7130\n",
      "Tag: MISC - P 0.8121 / R 0.4771\n",
      "Tag: ORG - P 0.6684 / R 0.2486\n",
      "Tag: PER - P 0.7444 / R 0.7444\n",
      "Total time: 48.7754669189\n",
      "Epoch 9\n",
      "Training loss: 0.463149428368428368\n",
      "Training acc: 0.880832527097\n",
      "Validation loss: 0.320633590221\n",
      "\n",
      "[[42096   167    44    82   370]\n",
      " [  395  1382    19   174   124]\n",
      " [  589    39   582    27    31]\n",
      " [  978   150    37   616   311]\n",
      " [  722    60     3    48  2316]]\n",
      "Tag: O - P 0.9401 / R 0.9845\n",
      "Tag: LOC - P 0.7686 / R 0.6600\n",
      "Tag: MISC - P 0.8496 / R 0.4590\n",
      "Tag: ORG - P 0.6505 / R 0.2945\n",
      "Tag: PER - P 0.7348 / R 0.7355\n",
      "Total time: 48.9450838566\n",
      "Epoch 10\n",
      "Training loss: 0.463641762733762733\n",
      "Training acc: 0.880984770726\n",
      "Validation loss: 0.319981724024\n",
      "Test\n",
      "=-=-=\n",
      "Writing predictions to q2_test.predicted\n"
     ]
    }
   ],
   "source": [
    "from q2_NER import *\n",
    "test_NER()\n"
   ]
  },
  {
   "cell_type": "code",
   "execution_count": null,
   "metadata": {
    "collapsed": true
   },
   "outputs": [],
   "source": []
  }
 ],
 "metadata": {
  "kernelspec": {
   "display_name": "Python 2",
   "language": "python",
   "name": "python2"
  },
  "language_info": {
   "codemirror_mode": {
    "name": "ipython",
    "version": 2
   },
   "file_extension": ".py",
   "mimetype": "text/x-python",
   "name": "python",
   "nbconvert_exporter": "python",
   "pygments_lexer": "ipython2",
   "version": "2.7.13"
  }
 },
 "nbformat": 4,
 "nbformat_minor": 2
}
